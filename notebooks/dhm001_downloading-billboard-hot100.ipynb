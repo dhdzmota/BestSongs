{
 "cells": [
  {
   "cell_type": "markdown",
   "id": "09f8feb9-edd0-4d18-91e1-05425db0cf88",
   "metadata": {},
   "source": [
    "# Downloading Billboard Hot 100\n",
    "\n",
    "[Billboard hot 100](https://www.billboard.com/charts/hot-100/): According to their own description, billboard hot 100 is the week's most popular current songs across all genres, ranked by straming activity from digital music sources, tracked by Luminate, radio airplay audience impresssions as measured by Luminate, and sales data as compiled by Luminate.\n",
    "\n",
    "[Luminate](https://luminatedata.com/): Luminate is an entertainment preeminent data and insights company, trying to unleash access to the most essential, objective and trustworthy information across music film and television. "
   ]
  },
  {
   "cell_type": "markdown",
   "id": "39afa705-3859-4694-af51-50bae64d09fa",
   "metadata": {},
   "source": [
    "## Libraries:"
   ]
  },
  {
   "cell_type": "code",
   "execution_count": 15,
   "id": "debf4e63-882e-479c-9d10-b832b686176a",
   "metadata": {},
   "outputs": [],
   "source": [
    "#!pip install billboard.py\n",
    "#!pip install pandas\n",
    "#!pip install swifter"
   ]
  },
  {
   "cell_type": "code",
   "execution_count": 18,
   "id": "f0376e8a-54cb-4dfb-b156-d310a5207c8b",
   "metadata": {},
   "outputs": [],
   "source": [
    "#import billboard\n",
    "import re\n",
    "import pandas as pd\n",
    "import requests\n",
    "from bs4 import BeautifulSoup\n",
    "import swifter\n",
    "import time"
   ]
  },
  {
   "cell_type": "markdown",
   "id": "678818a5-3739-478c-8a9c-5b7566b159e3",
   "metadata": {},
   "source": [
    "## Inputs"
   ]
  },
  {
   "cell_type": "code",
   "execution_count": 3,
   "id": "1c63fa1c-3a07-44cb-bbb9-0cf4e5929cda",
   "metadata": {},
   "outputs": [],
   "source": [
    "HEADERS = {\n",
    "    'User-Agent': 'Mozilla/5.0 (Windows NT 10.0; Win64; x64; rv:106.0) Gecko/20100101 Firefox/106.0',\n",
    "    'Accept': 'text/html,application/xhtml+xml,application/xml;q=0.9,image/avif,image/webp,*/*;q=0.8',\n",
    "    'Accept-Language': 'en-US,en;q=0.5',\n",
    "    'DNT': '1',\n",
    "    'Connection': 'keep-alive',\n",
    "    'Upgrade-Insecure-Requests': '1',\n",
    "    'Sec-Fetch-Dest': 'document',\n",
    "    'Sec-Fetch-Mode': 'navigate',\n",
    "    'Sec-Fetch-Site': 'none',\n",
    "    'Sec-Fetch-User': '?1',\n",
    "}\n"
   ]
  },
  {
   "cell_type": "markdown",
   "id": "1aacdeb8-093e-454b-bd59-3e02a01b7d2b",
   "metadata": {},
   "source": [
    "## Configuration"
   ]
  },
  {
   "cell_type": "code",
   "execution_count": 4,
   "id": "59ec69f9-6dac-486d-8d6b-5fb895bd9180",
   "metadata": {},
   "outputs": [],
   "source": [
    "pd.set_option('display.max_colwidth', 500)"
   ]
  },
  {
   "cell_type": "markdown",
   "id": "f845e833-648d-4adb-bc4b-f56c06b6d3cf",
   "metadata": {},
   "source": [
    "## Functions"
   ]
  },
  {
   "cell_type": "code",
   "execution_count": 22,
   "id": "ac34d991-989c-4350-8165-5b0163c904e6",
   "metadata": {},
   "outputs": [],
   "source": [
    "def create_date_span(min_date, max_date):\n",
    "    \"\"\"Function that creates a date list depending on the min and max date provided,\n",
    "    the date list is a pandas series within a week scope to the given frequency.\"\"\"\n",
    "    dates = pd.Series(pd.date_range(min_date, max_date, freq='W-MON')).dt.date\n",
    "    return dates\n",
    "\n",
    "def get_billboard_url_for_date(date):\n",
    "    \"\"\"Given a date in the format YYYY-MM-DD,\n",
    "    generate a billboard link with that scope\"\"\"\n",
    "    billboard_url_w_date = f\"https://www.billboard.com/charts/hot-100/{date}\"\n",
    "    return billboard_url_w_date\n",
    "\n",
    "def request_url(url):\n",
    "    \"\"\"Given a URL, generate a corresponding request to get the information as soup.\"\"\"\n",
    "    response = requests.get(url, headers=HEADERS)\n",
    "    soup = BeautifulSoup(response.content)\n",
    "    #time.sleep(0.1)\n",
    "    return soup\n",
    "\n",
    "def finding_top100_elements_from_soup(soup, additional_string):\n",
    "    \"\"\"Given a soup from the billboard100, extract the top100 elements as a list,\n",
    "    this will be used to create a psv (pipe sepparated values)\"\"\"\n",
    "    row_containers_top100 = soup.find_all('div', class_=\"o-chart-results-list-row-container\")\n",
    "    saving_elements = []\n",
    "    for element_row in row_containers_top100:\n",
    "        text_from_element = element_row.find_all('ul')[0].text.replace('\\n', '').replace('\\t', '|' )\n",
    "        if \"|NEW|\" in text_from_element:\n",
    "            text_from_element = text_from_element.replace('|NEW|', '||')\n",
    "        if \"|RE-ENTRY|\" in text_from_element:\n",
    "            text_from_element = text_from_element.replace('|RE-ENTRY|', '||')\n",
    "        text_from_element = text_from_element + f'||{additional_string}'\n",
    "\n",
    "        # Removes duplicated pipes, keeps only one.\n",
    "        output_string = re.sub(r'\\|{2,}', '|', text_from_element)\n",
    "        saving_elements.append(output_string)\n",
    "    return saving_elements"
   ]
  },
  {
   "cell_type": "code",
   "execution_count": 23,
   "id": "abe1aab2-b29d-4abe-94b0-7199f7ea820c",
   "metadata": {},
   "outputs": [],
   "source": [
    "def get_info(date):\n",
    "    url = get_billboard_url_for_date(date)\n",
    "    soup = request_url(url)\n",
    "    top100 = finding_top100_elements_from_soup(soup, date)\n",
    "    return top100"
   ]
  },
  {
   "cell_type": "markdown",
   "id": "6d349bdb-dc44-42bb-adce-15b86c5796d5",
   "metadata": {},
   "source": [
    "## Download"
   ]
  },
  {
   "cell_type": "code",
   "execution_count": 27,
   "id": "d335e844-9e20-4303-b251-51b3ce058eff",
   "metadata": {},
   "outputs": [
    {
     "name": "stdout",
     "output_type": "stream",
     "text": [
      "CPU times: user 10min 16s, sys: 265 ms, total: 10min 16s\n",
      "Wall time: 20min 51s\n"
     ]
    }
   ],
   "source": [
    "%%time\n",
    "billboard_100_info = dates.astype('str').apply(get_info)"
   ]
  },
  {
   "cell_type": "markdown",
   "id": "a9e7d9f8-92ff-4937-83e8-e368457525eb",
   "metadata": {},
   "source": [
    "## Save Data"
   ]
  },
  {
   "cell_type": "code",
   "execution_count": 28,
   "id": "c015467a-0ab1-4daa-a00d-e87f35c54e33",
   "metadata": {},
   "outputs": [],
   "source": [
    "pd.DataFrame(billboard_100_info).to_pickle(\"../data/billboard.pkl\")"
   ]
  },
  {
   "cell_type": "code",
   "execution_count": 30,
   "id": "52b6d3d7-c0ed-417f-ba53-9db1caeff289",
   "metadata": {},
   "outputs": [
    {
     "data": {
      "text/plain": [
       "0                                 |1|Smooth|Santana Featuring Rob Thomas|1|1|24|1|1|24|2000-01-03\n",
       "0                                          |2|Back At One|Brian McKnight|2|2|20|2|2|20|2000-01-03\n",
       "0                            |3|I Wanna Love You Forever|Jessica Simpson|3|3|13|3|3|13|2000-01-03\n",
       "0                                |4|My Love Is Your Love|Whitney Houston|4|4|19|4|4|19|2000-01-03\n",
       "0       |5|Hot Boyz|Missy \"Misdemeanor\" Elliott Featuring NAS, EVE & Q-Tip|7|5|7|7|5|7|2000-01-03\n",
       "                                                  ...                                            \n",
       "1304                         |96|Dos Dias|Tito Double P & Peso Pluma|88|51|16|88|51|16|2024-12-30\n",
       "1304                                                 |97|25|Rod Wave|94|16|11|94|16|11|2024-12-30\n",
       "1304                                         |98|Popular|Ariana Grande|73|53|5|73|53|5|2024-12-30\n",
       "1304                  |99|Think I'm In Love With You|Chris Stapleton|89|49|34|89|49|34|2024-12-30\n",
       "1304                    |100|Peekaboo|Kendrick Lamar Featuring AzChike|71|13|5|71|13|5|2024-12-30\n",
       "Length: 130500, dtype: object"
      ]
     },
     "execution_count": 30,
     "metadata": {},
     "output_type": "execute_result"
    }
   ],
   "source": [
    "exploded_billboard_100 = billboard_100_info.explode()"
   ]
  },
  {
   "cell_type": "code",
   "execution_count": null,
   "id": "dc7fc3db-cf0b-493a-99d4-c83524c5142c",
   "metadata": {},
   "outputs": [],
   "source": []
  }
 ],
 "metadata": {
  "kernelspec": {
   "display_name": "Python 3 (ipykernel)",
   "language": "python",
   "name": "python3"
  },
  "language_info": {
   "codemirror_mode": {
    "name": "ipython",
    "version": 3
   },
   "file_extension": ".py",
   "mimetype": "text/x-python",
   "name": "python",
   "nbconvert_exporter": "python",
   "pygments_lexer": "ipython3",
   "version": "3.8.10"
  }
 },
 "nbformat": 4,
 "nbformat_minor": 5
}
