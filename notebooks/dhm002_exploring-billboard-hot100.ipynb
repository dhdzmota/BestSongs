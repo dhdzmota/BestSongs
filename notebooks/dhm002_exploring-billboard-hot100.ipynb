{
 "cells": [
  {
   "cell_type": "markdown",
   "id": "fc1e24f9-6fb1-4da2-88e4-e8bf7eccb5f3",
   "metadata": {},
   "source": [
    "# Downloading Billboard Hot 100\n",
    "\n",
    "Now, we have information from the first week of 2000 to the last week of 2024. Lets take a deep dive to see what can we find."
   ]
  },
  {
   "cell_type": "raw",
   "id": "046ca74a-162a-4417-bcf5-6016d4d61c18",
   "metadata": {},
   "source": []
  },
  {
   "cell_type": "code",
   "execution_count": 1,
   "id": "f2545d0f-ac18-484e-a032-5b7231be69bd",
   "metadata": {},
   "outputs": [],
   "source": [
    "import pandas as pd"
   ]
  },
  {
   "cell_type": "code",
   "execution_count": 10,
   "id": "0f93972d-1a83-4b5c-a5bc-ab6ef1d8f7f0",
   "metadata": {},
   "outputs": [],
   "source": [
    "billboard_100 = pd.read_pickle('../data/billboard.pkl')\n",
    "billboard_100 = pd.DataFrame(billboard_100[0].explode().str.split('|').to_list())\n",
    "billboard_100.drop([0, 7,8, 9], axis=1, inplace=True)\n",
    "billboard_100.columns = [\"position\", 'song', 'author', 'last_week', 'peak_pos','wks_on_chart', 'corrsponding_week']"
   ]
  },
  {
   "cell_type": "code",
   "execution_count": 14,
   "id": "294c8c36-5ee6-4bb6-89b6-fd36cad0ae61",
   "metadata": {},
   "outputs": [
    {
     "data": {
      "text/plain": [
       "author\n",
       "Taylor Swift        1589\n",
       "Drake                934\n",
       "Morgan Wallen        736\n",
       "Kenny Chesney        728\n",
       "Keith Urban          674\n",
       "Jason Aldean         624\n",
       "Tim McGraw           609\n",
       "Beyonce              608\n",
       "Rascal Flatts        604\n",
       "Rihanna              587\n",
       "Luke Bryan           578\n",
       "P!nk                 570\n",
       "Carrie Underwood     561\n",
       "Brad Paisley         535\n",
       "Kelly Clarkson       531\n",
       "Blake Shelton        525\n",
       "Toby Keith           524\n",
       "Luke Combs           514\n",
       "Maroon 5             511\n",
       "Name: count, dtype: int64"
      ]
     },
     "execution_count": 14,
     "metadata": {},
     "output_type": "execute_result"
    }
   ],
   "source": [
    "billboard_100.author.value_counts().head(19)"
   ]
  },
  {
   "cell_type": "code",
   "execution_count": 21,
   "id": "2947209b-8d68-4faf-a9ad-0f88ac66a9c6",
   "metadata": {},
   "outputs": [
    {
     "data": {
      "text/plain": [
       "Heat Waves | Glass Animals                        91\n",
       "Blinding Lights | The Weeknd                      90\n",
       "Radioactive | Imagine Dragons                     87\n",
       "Sail | AWOLNATION                                 79\n",
       "Levitating | Dua Lipa                             77\n",
       "I'm Yours | Jason Mraz                            76\n",
       "Lose Control | Teddy Swims                        71\n",
       "All I Want For Christmas Is You | Mariah Carey    70\n",
       "Snooze | SZA                                      70\n",
       "Save Your Tears | The Weeknd & Ariana Grande      69\n",
       "Name: count, dtype: int64"
      ]
     },
     "execution_count": 21,
     "metadata": {},
     "output_type": "execute_result"
    }
   ],
   "source": [
    "(billboard_100.song + ' | ' + billboard_100.author).value_counts().head(10)"
   ]
  },
  {
   "cell_type": "code",
   "execution_count": 17,
   "id": "a99387cc-6f2e-43c8-b95b-1ad0a46e9e1e",
   "metadata": {},
   "outputs": [
    {
     "data": {
      "text/html": [
       "<div>\n",
       "<style scoped>\n",
       "    .dataframe tbody tr th:only-of-type {\n",
       "        vertical-align: middle;\n",
       "    }\n",
       "\n",
       "    .dataframe tbody tr th {\n",
       "        vertical-align: top;\n",
       "    }\n",
       "\n",
       "    .dataframe thead th {\n",
       "        text-align: right;\n",
       "    }\n",
       "</style>\n",
       "<table border=\"1\" class=\"dataframe\">\n",
       "  <thead>\n",
       "    <tr style=\"text-align: right;\">\n",
       "      <th></th>\n",
       "      <th>position</th>\n",
       "      <th>song</th>\n",
       "      <th>author</th>\n",
       "      <th>last_week</th>\n",
       "      <th>peak_pos</th>\n",
       "      <th>wks_on_chart</th>\n",
       "      <th>corrsponding_week</th>\n",
       "    </tr>\n",
       "  </thead>\n",
       "  <tbody>\n",
       "    <tr>\n",
       "      <th>40788</th>\n",
       "      <td>89</td>\n",
       "      <td>Stay</td>\n",
       "      <td>Sugarland</td>\n",
       "      <td>-</td>\n",
       "      <td>89</td>\n",
       "      <td>1</td>\n",
       "      <td>2007-10-22</td>\n",
       "    </tr>\n",
       "    <tr>\n",
       "      <th>40879</th>\n",
       "      <td>80</td>\n",
       "      <td>Stay</td>\n",
       "      <td>Sugarland</td>\n",
       "      <td>89</td>\n",
       "      <td>80</td>\n",
       "      <td>2</td>\n",
       "      <td>2007-10-29</td>\n",
       "    </tr>\n",
       "    <tr>\n",
       "      <th>40963</th>\n",
       "      <td>64</td>\n",
       "      <td>Stay</td>\n",
       "      <td>Sugarland</td>\n",
       "      <td>80</td>\n",
       "      <td>64</td>\n",
       "      <td>3</td>\n",
       "      <td>2007-11-05</td>\n",
       "    </tr>\n",
       "    <tr>\n",
       "      <th>41057</th>\n",
       "      <td>58</td>\n",
       "      <td>Stay</td>\n",
       "      <td>Sugarland</td>\n",
       "      <td>64</td>\n",
       "      <td>58</td>\n",
       "      <td>4</td>\n",
       "      <td>2007-11-12</td>\n",
       "    </tr>\n",
       "    <tr>\n",
       "      <th>41131</th>\n",
       "      <td>32</td>\n",
       "      <td>Stay</td>\n",
       "      <td>Sugarland</td>\n",
       "      <td>58</td>\n",
       "      <td>32</td>\n",
       "      <td>5</td>\n",
       "      <td>2007-11-19</td>\n",
       "    </tr>\n",
       "    <tr>\n",
       "      <th>...</th>\n",
       "      <td>...</td>\n",
       "      <td>...</td>\n",
       "      <td>...</td>\n",
       "      <td>...</td>\n",
       "      <td>...</td>\n",
       "      <td>...</td>\n",
       "      <td>...</td>\n",
       "    </tr>\n",
       "    <tr>\n",
       "      <th>118220</th>\n",
       "      <td>21</td>\n",
       "      <td>Stay</td>\n",
       "      <td>The Kid LAROI &amp; Justin Bieber</td>\n",
       "      <td>20</td>\n",
       "      <td>1</td>\n",
       "      <td>59</td>\n",
       "      <td>2022-08-29</td>\n",
       "    </tr>\n",
       "    <tr>\n",
       "      <th>118323</th>\n",
       "      <td>24</td>\n",
       "      <td>Stay</td>\n",
       "      <td>The Kid LAROI &amp; Justin Bieber</td>\n",
       "      <td>21</td>\n",
       "      <td>1</td>\n",
       "      <td>60</td>\n",
       "      <td>2022-09-05</td>\n",
       "    </tr>\n",
       "    <tr>\n",
       "      <th>118421</th>\n",
       "      <td>22</td>\n",
       "      <td>Stay</td>\n",
       "      <td>The Kid LAROI &amp; Justin Bieber</td>\n",
       "      <td>24</td>\n",
       "      <td>1</td>\n",
       "      <td>61</td>\n",
       "      <td>2022-09-12</td>\n",
       "    </tr>\n",
       "    <tr>\n",
       "      <th>118522</th>\n",
       "      <td>23</td>\n",
       "      <td>Stay</td>\n",
       "      <td>The Kid LAROI &amp; Justin Bieber</td>\n",
       "      <td>22</td>\n",
       "      <td>1</td>\n",
       "      <td>62</td>\n",
       "      <td>2022-09-19</td>\n",
       "    </tr>\n",
       "    <tr>\n",
       "      <th>118622</th>\n",
       "      <td>23</td>\n",
       "      <td>Stay</td>\n",
       "      <td>The Kid LAROI &amp; Justin Bieber</td>\n",
       "      <td>23</td>\n",
       "      <td>1</td>\n",
       "      <td>63</td>\n",
       "      <td>2022-09-26</td>\n",
       "    </tr>\n",
       "  </tbody>\n",
       "</table>\n",
       "<p>172 rows × 7 columns</p>\n",
       "</div>"
      ],
      "text/plain": [
       "       position  song                         author last_week peak_pos  \\\n",
       "40788        89  Stay                      Sugarland         -       89   \n",
       "40879        80  Stay                      Sugarland        89       80   \n",
       "40963        64  Stay                      Sugarland        80       64   \n",
       "41057        58  Stay                      Sugarland        64       58   \n",
       "41131        32  Stay                      Sugarland        58       32   \n",
       "...         ...   ...                            ...       ...      ...   \n",
       "118220       21  Stay  The Kid LAROI & Justin Bieber        20        1   \n",
       "118323       24  Stay  The Kid LAROI & Justin Bieber        21        1   \n",
       "118421       22  Stay  The Kid LAROI & Justin Bieber        24        1   \n",
       "118522       23  Stay  The Kid LAROI & Justin Bieber        22        1   \n",
       "118622       23  Stay  The Kid LAROI & Justin Bieber        23        1   \n",
       "\n",
       "       wks_on_chart corrsponding_week  \n",
       "40788             1        2007-10-22  \n",
       "40879             2        2007-10-29  \n",
       "40963             3        2007-11-05  \n",
       "41057             4        2007-11-12  \n",
       "41131             5        2007-11-19  \n",
       "...             ...               ...  \n",
       "118220           59        2022-08-29  \n",
       "118323           60        2022-09-05  \n",
       "118421           61        2022-09-12  \n",
       "118522           62        2022-09-19  \n",
       "118622           63        2022-09-26  \n",
       "\n",
       "[172 rows x 7 columns]"
      ]
     },
     "execution_count": 17,
     "metadata": {},
     "output_type": "execute_result"
    }
   ],
   "source": [
    "billboard_100[billboard_100.song=='Stay']"
   ]
  },
  {
   "cell_type": "code",
   "execution_count": null,
   "id": "fb421794-5449-4678-a54a-cc5572e2acd5",
   "metadata": {},
   "outputs": [],
   "source": []
  }
 ],
 "metadata": {
  "kernelspec": {
   "display_name": "Python 3 (ipykernel)",
   "language": "python",
   "name": "python3"
  },
  "language_info": {
   "codemirror_mode": {
    "name": "ipython",
    "version": 3
   },
   "file_extension": ".py",
   "mimetype": "text/x-python",
   "name": "python",
   "nbconvert_exporter": "python",
   "pygments_lexer": "ipython3",
   "version": "3.8.10"
  }
 },
 "nbformat": 4,
 "nbformat_minor": 5
}
